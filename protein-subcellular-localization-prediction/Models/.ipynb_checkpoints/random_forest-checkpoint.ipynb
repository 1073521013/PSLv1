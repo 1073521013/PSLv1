{
 "cells": [
  {
   "cell_type": "code",
   "execution_count": 1,
   "metadata": {
    "collapsed": false
   },
   "outputs": [],
   "source": [
    "from __future__ import division\n",
    "import numpy as np\n",
    "import pandas as pd\n",
    "import matplotlib.pyplot as plt\n",
    "\n",
    "from sklearn.model_selection import train_test_split\n",
    "from sklearn.datasets import make_classification\n",
    "from sklearn.ensemble import ExtraTreesClassifier\n",
    "from sklearn.ensemble import RandomForestClassifier\n",
    "from sklearn.model_selection import cross_val_score\n",
    "from sklearn.model_selection import GridSearchCV\n",
    "from sklearn.metrics import confusion_matrix"
   ]
  },
  {
   "cell_type": "code",
   "execution_count": 2,
   "metadata": {
    "collapsed": true
   },
   "outputs": [],
   "source": [
    "def accuracy(pred, actual):\n",
    "    \"\"\"Returns percentage of correctly classified labels\"\"\"\n",
    "    return sum(pred==actual) / len(actual)"
   ]
  },
  {
   "cell_type": "code",
   "execution_count": 4,
   "metadata": {
    "collapsed": false
   },
   "outputs": [],
   "source": [
    "# Import data and split out labels\n",
    "train = pd.read_csv('../data/train.csv')\n",
    "test = pd.read_csv('../data/test.csv')\n",
    "\n",
    "# Split into labels, names and data\n",
    "y_train = train['class']\n",
    "names_train = train['name']\n",
    "X_train = train.drop(['class', 'name', 'sequence'], axis=1)\n",
    "\n",
    "y_test = test['class']\n",
    "names_train = test['name']\n",
    "X_test = test.drop(['class', 'name', 'sequence'], axis=1)"
   ]
  },
  {
   "cell_type": "code",
   "execution_count": 10,
   "metadata": {
    "collapsed": false
   },
   "outputs": [
    {
     "name": "stdout",
     "output_type": "stream",
     "text": [
      "Fitting 2 folds for each of 27 candidates, totalling 54 fits\n",
      "[CV] max_features=5, n_estimators=500, n_jobs=30, max_depth=28, min_samples_leaf=1 \n",
      "[CV]  max_features=5, n_estimators=500, n_jobs=30, max_depth=28, min_samples_leaf=1, score=0.750525, total=   3.4s\n",
      "[CV] max_features=5, n_estimators=500, n_jobs=30, max_depth=28, min_samples_leaf=1 \n",
      "[CV]  max_features=5, n_estimators=500, n_jobs=30, max_depth=28, min_samples_leaf=1, score=0.739496, total=   3.0s"
     ]
    },
    {
     "name": "stderr",
     "output_type": "stream",
     "text": [
      "[Parallel(n_jobs=1)]: Done   1 out of   1 | elapsed:    3.9s remaining:    0.0s\n",
      "[Parallel(n_jobs=1)]: Done   2 out of   2 | elapsed:    7.6s remaining:    0.0s\n"
     ]
    },
    {
     "name": "stdout",
     "output_type": "stream",
     "text": [
      "\n",
      "[CV] max_features=5, n_estimators=500, n_jobs=30, max_depth=28, min_samples_leaf=2 \n",
      "[CV]  max_features=5, n_estimators=500, n_jobs=30, max_depth=28, min_samples_leaf=2, score=0.746745, total=   3.2s\n",
      "[CV] max_features=5, n_estimators=500, n_jobs=30, max_depth=28, min_samples_leaf=2 \n",
      "[CV]  max_features=5, n_estimators=500, n_jobs=30, max_depth=28, min_samples_leaf=2, score=0.742857, total=   3.6s\n",
      "[CV] max_features=5, n_estimators=500, n_jobs=30, max_depth=28, min_samples_leaf=3 \n",
      "[CV]  max_features=5, n_estimators=500, n_jobs=30, max_depth=28, min_samples_leaf=3, score=0.742965, total=   3.1s\n",
      "[CV] max_features=5, n_estimators=500, n_jobs=30, max_depth=28, min_samples_leaf=3 \n",
      "[CV]  max_features=5, n_estimators=500, n_jobs=30, max_depth=28, min_samples_leaf=3, score=0.739076, total=   3.0s\n",
      "[CV] max_features=7, n_estimators=500, n_jobs=30, max_depth=28, min_samples_leaf=1 \n",
      "[CV]  max_features=7, n_estimators=500, n_jobs=30, max_depth=28, min_samples_leaf=1, score=0.746325, total=   3.4s\n",
      "[CV] max_features=7, n_estimators=500, n_jobs=30, max_depth=28, min_samples_leaf=1 \n",
      "[CV]  max_features=7, n_estimators=500, n_jobs=30, max_depth=28, min_samples_leaf=1, score=0.738655, total=   3.3s\n",
      "[CV] max_features=7, n_estimators=500, n_jobs=30, max_depth=28, min_samples_leaf=2 \n",
      "[CV]  max_features=7, n_estimators=500, n_jobs=30, max_depth=28, min_samples_leaf=2, score=0.742545, total=   3.1s\n",
      "[CV] max_features=7, n_estimators=500, n_jobs=30, max_depth=28, min_samples_leaf=2 \n",
      "[CV]  max_features=7, n_estimators=500, n_jobs=30, max_depth=28, min_samples_leaf=2, score=0.742017, total=   3.3s\n",
      "[CV] max_features=7, n_estimators=500, n_jobs=30, max_depth=28, min_samples_leaf=3 \n",
      "[CV]  max_features=7, n_estimators=500, n_jobs=30, max_depth=28, min_samples_leaf=3, score=0.741285, total=   3.2s\n",
      "[CV] max_features=7, n_estimators=500, n_jobs=30, max_depth=28, min_samples_leaf=3 \n",
      "[CV]  max_features=7, n_estimators=500, n_jobs=30, max_depth=28, min_samples_leaf=3, score=0.739496, total=   3.4s\n",
      "[CV] max_features=9, n_estimators=500, n_jobs=30, max_depth=28, min_samples_leaf=1 \n",
      "[CV]  max_features=9, n_estimators=500, n_jobs=30, max_depth=28, min_samples_leaf=1, score=0.751785, total=   3.6s\n",
      "[CV] max_features=9, n_estimators=500, n_jobs=30, max_depth=28, min_samples_leaf=1 \n",
      "[CV]  max_features=9, n_estimators=500, n_jobs=30, max_depth=28, min_samples_leaf=1, score=0.741597, total=   3.7s\n",
      "[CV] max_features=9, n_estimators=500, n_jobs=30, max_depth=28, min_samples_leaf=2 \n",
      "[CV]  max_features=9, n_estimators=500, n_jobs=30, max_depth=28, min_samples_leaf=2, score=0.748005, total=   3.7s\n",
      "[CV] max_features=9, n_estimators=500, n_jobs=30, max_depth=28, min_samples_leaf=2 \n",
      "[CV]  max_features=9, n_estimators=500, n_jobs=30, max_depth=28, min_samples_leaf=2, score=0.737815, total=   3.5s\n",
      "[CV] max_features=9, n_estimators=500, n_jobs=30, max_depth=28, min_samples_leaf=3 \n",
      "[CV]  max_features=9, n_estimators=500, n_jobs=30, max_depth=28, min_samples_leaf=3, score=0.747585, total=   3.4s\n",
      "[CV] max_features=9, n_estimators=500, n_jobs=30, max_depth=28, min_samples_leaf=3 \n",
      "[CV]  max_features=9, n_estimators=500, n_jobs=30, max_depth=28, min_samples_leaf=3, score=0.739076, total=   3.9s\n",
      "[CV] max_features=5, n_estimators=500, n_jobs=30, max_depth=30, min_samples_leaf=1 \n",
      "[CV]  max_features=5, n_estimators=500, n_jobs=30, max_depth=30, min_samples_leaf=1, score=0.748005, total=   3.1s\n",
      "[CV] max_features=5, n_estimators=500, n_jobs=30, max_depth=30, min_samples_leaf=1 \n",
      "[CV]  max_features=5, n_estimators=500, n_jobs=30, max_depth=30, min_samples_leaf=1, score=0.745798, total=   3.2s\n",
      "[CV] max_features=5, n_estimators=500, n_jobs=30, max_depth=30, min_samples_leaf=2 \n",
      "[CV]  max_features=5, n_estimators=500, n_jobs=30, max_depth=30, min_samples_leaf=2, score=0.745905, total=   2.8s\n",
      "[CV] max_features=5, n_estimators=500, n_jobs=30, max_depth=30, min_samples_leaf=2 \n",
      "[CV]  max_features=5, n_estimators=500, n_jobs=30, max_depth=30, min_samples_leaf=2, score=0.742857, total=   3.2s\n",
      "[CV] max_features=5, n_estimators=500, n_jobs=30, max_depth=30, min_samples_leaf=3 \n",
      "[CV]  max_features=5, n_estimators=500, n_jobs=30, max_depth=30, min_samples_leaf=3, score=0.745485, total=   3.0s\n",
      "[CV] max_features=5, n_estimators=500, n_jobs=30, max_depth=30, min_samples_leaf=3 \n",
      "[CV]  max_features=5, n_estimators=500, n_jobs=30, max_depth=30, min_samples_leaf=3, score=0.740756, total=   3.3s\n",
      "[CV] max_features=7, n_estimators=500, n_jobs=30, max_depth=30, min_samples_leaf=1 \n",
      "[CV]  max_features=7, n_estimators=500, n_jobs=30, max_depth=30, min_samples_leaf=1, score=0.748425, total=   4.1s\n",
      "[CV] max_features=7, n_estimators=500, n_jobs=30, max_depth=30, min_samples_leaf=1 \n",
      "[CV]  max_features=7, n_estimators=500, n_jobs=30, max_depth=30, min_samples_leaf=1, score=0.745378, total=   4.4s\n",
      "[CV] max_features=7, n_estimators=500, n_jobs=30, max_depth=30, min_samples_leaf=2 \n",
      "[CV]  max_features=7, n_estimators=500, n_jobs=30, max_depth=30, min_samples_leaf=2, score=0.746325, total=   3.7s\n",
      "[CV] max_features=7, n_estimators=500, n_jobs=30, max_depth=30, min_samples_leaf=2 \n",
      "[CV]  max_features=7, n_estimators=500, n_jobs=30, max_depth=30, min_samples_leaf=2, score=0.745798, total=   3.9s\n",
      "[CV] max_features=7, n_estimators=500, n_jobs=30, max_depth=30, min_samples_leaf=3 \n",
      "[CV]  max_features=7, n_estimators=500, n_jobs=30, max_depth=30, min_samples_leaf=3, score=0.748845, total=   3.7s\n",
      "[CV] max_features=7, n_estimators=500, n_jobs=30, max_depth=30, min_samples_leaf=3 \n",
      "[CV]  max_features=7, n_estimators=500, n_jobs=30, max_depth=30, min_samples_leaf=3, score=0.739076, total=   3.9s\n",
      "[CV] max_features=9, n_estimators=500, n_jobs=30, max_depth=30, min_samples_leaf=1 \n",
      "[CV]  max_features=9, n_estimators=500, n_jobs=30, max_depth=30, min_samples_leaf=1, score=0.751365, total=   3.8s\n",
      "[CV] max_features=9, n_estimators=500, n_jobs=30, max_depth=30, min_samples_leaf=1 \n",
      "[CV]  max_features=9, n_estimators=500, n_jobs=30, max_depth=30, min_samples_leaf=1, score=0.743277, total=   3.7s\n",
      "[CV] max_features=9, n_estimators=500, n_jobs=30, max_depth=30, min_samples_leaf=2 \n",
      "[CV]  max_features=9, n_estimators=500, n_jobs=30, max_depth=30, min_samples_leaf=2, score=0.744225, total=   3.8s\n",
      "[CV] max_features=9, n_estimators=500, n_jobs=30, max_depth=30, min_samples_leaf=2 \n",
      "[CV]  max_features=9, n_estimators=500, n_jobs=30, max_depth=30, min_samples_leaf=2, score=0.737815, total=   4.3s\n",
      "[CV] max_features=9, n_estimators=500, n_jobs=30, max_depth=30, min_samples_leaf=3 \n",
      "[CV]  max_features=9, n_estimators=500, n_jobs=30, max_depth=30, min_samples_leaf=3, score=0.743805, total=   3.9s\n",
      "[CV] max_features=9, n_estimators=500, n_jobs=30, max_depth=30, min_samples_leaf=3 \n",
      "[CV]  max_features=9, n_estimators=500, n_jobs=30, max_depth=30, min_samples_leaf=3, score=0.741176, total=   3.3s\n",
      "[CV] max_features=5, n_estimators=500, n_jobs=30, max_depth=32, min_samples_leaf=1 \n",
      "[CV]  max_features=5, n_estimators=500, n_jobs=30, max_depth=32, min_samples_leaf=1, score=0.745905, total=   3.3s\n",
      "[CV] max_features=5, n_estimators=500, n_jobs=30, max_depth=32, min_samples_leaf=1 \n",
      "[CV]  max_features=5, n_estimators=500, n_jobs=30, max_depth=32, min_samples_leaf=1, score=0.744118, total=   3.4s\n",
      "[CV] max_features=5, n_estimators=500, n_jobs=30, max_depth=32, min_samples_leaf=2 \n",
      "[CV]  max_features=5, n_estimators=500, n_jobs=30, max_depth=32, min_samples_leaf=2, score=0.751365, total=   3.0s\n",
      "[CV] max_features=5, n_estimators=500, n_jobs=30, max_depth=32, min_samples_leaf=2 \n",
      "[CV]  max_features=5, n_estimators=500, n_jobs=30, max_depth=32, min_samples_leaf=2, score=0.743697, total=   3.3s\n",
      "[CV] max_features=5, n_estimators=500, n_jobs=30, max_depth=32, min_samples_leaf=3 \n",
      "[CV]  max_features=5, n_estimators=500, n_jobs=30, max_depth=32, min_samples_leaf=3, score=0.743805, total=   2.9s\n",
      "[CV] max_features=5, n_estimators=500, n_jobs=30, max_depth=32, min_samples_leaf=3 \n",
      "[CV]  max_features=5, n_estimators=500, n_jobs=30, max_depth=32, min_samples_leaf=3, score=0.740336, total=   2.9s\n",
      "[CV] max_features=7, n_estimators=500, n_jobs=30, max_depth=32, min_samples_leaf=1 \n",
      "[CV]  max_features=7, n_estimators=500, n_jobs=30, max_depth=32, min_samples_leaf=1, score=0.751365, total=   3.9s\n",
      "[CV] max_features=7, n_estimators=500, n_jobs=30, max_depth=32, min_samples_leaf=1 \n",
      "[CV]  max_features=7, n_estimators=500, n_jobs=30, max_depth=32, min_samples_leaf=1, score=0.742437, total=   3.6s\n",
      "[CV] max_features=7, n_estimators=500, n_jobs=30, max_depth=32, min_samples_leaf=2 \n",
      "[CV]  max_features=7, n_estimators=500, n_jobs=30, max_depth=32, min_samples_leaf=2, score=0.747585, total=   3.5s\n",
      "[CV] max_features=7, n_estimators=500, n_jobs=30, max_depth=32, min_samples_leaf=2 \n",
      "[CV]  max_features=7, n_estimators=500, n_jobs=30, max_depth=32, min_samples_leaf=2, score=0.740336, total=   3.2s\n",
      "[CV] max_features=7, n_estimators=500, n_jobs=30, max_depth=32, min_samples_leaf=3 \n",
      "[CV]  max_features=7, n_estimators=500, n_jobs=30, max_depth=32, min_samples_leaf=3, score=0.744645, total=   3.2s\n",
      "[CV] max_features=7, n_estimators=500, n_jobs=30, max_depth=32, min_samples_leaf=3 \n",
      "[CV]  max_features=7, n_estimators=500, n_jobs=30, max_depth=32, min_samples_leaf=3, score=0.739496, total=   3.3s\n",
      "[CV] max_features=9, n_estimators=500, n_jobs=30, max_depth=32, min_samples_leaf=1 \n",
      "[CV]  max_features=9, n_estimators=500, n_jobs=30, max_depth=32, min_samples_leaf=1, score=0.748845, total=   3.6s\n",
      "[CV] max_features=9, n_estimators=500, n_jobs=30, max_depth=32, min_samples_leaf=1 \n",
      "[CV]  max_features=9, n_estimators=500, n_jobs=30, max_depth=32, min_samples_leaf=1, score=0.742857, total=   3.6s\n",
      "[CV] max_features=9, n_estimators=500, n_jobs=30, max_depth=32, min_samples_leaf=2 \n",
      "[CV]  max_features=9, n_estimators=500, n_jobs=30, max_depth=32, min_samples_leaf=2, score=0.747165, total=   3.4s\n",
      "[CV] max_features=9, n_estimators=500, n_jobs=30, max_depth=32, min_samples_leaf=2 \n",
      "[CV]  max_features=9, n_estimators=500, n_jobs=30, max_depth=32, min_samples_leaf=2, score=0.737815, total=   3.4s\n",
      "[CV] max_features=9, n_estimators=500, n_jobs=30, max_depth=32, min_samples_leaf=3 \n",
      "[CV]  max_features=9, n_estimators=500, n_jobs=30, max_depth=32, min_samples_leaf=3, score=0.745485, total=   3.4s\n",
      "[CV] max_features=9, n_estimators=500, n_jobs=30, max_depth=32, min_samples_leaf=3 \n",
      "[CV]  max_features=9, n_estimators=500, n_jobs=30, max_depth=32, min_samples_leaf=3, score=0.736975, total=   3.6s\n",
      "#-------- DONE WITH GRID SEARCH."
     ]
    },
    {
     "name": "stderr",
     "output_type": "stream",
     "text": [
      "[Parallel(n_jobs=1)]: Done  54 out of  54 | elapsed:  3.7min finished\n",
      "/Users/danielfriar/anaconda/lib/python2.7/site-packages/sklearn/model_selection/_search.py:667: DeprecationWarning: The grid_scores_ attribute was deprecated in version 0.18 in favor of the more elaborate cv_results_ attribute. The grid_scores_ attribute will not be available from 0.20\n",
      "  DeprecationWarning)\n"
     ]
    },
    {
     "name": "stdout",
     "output_type": "stream",
     "text": [
      "\n",
      "{'max_features': 5, 'n_estimators': 500, 'n_jobs': 30, 'max_depth': 32, 'min_samples_leaf': 2}\n"
     ]
    }
   ],
   "source": [
    "# Optimize a random forest model using grid search\n",
    "rf = RandomForestClassifier()\n",
    "\n",
    "param_grid = {\n",
    "    'n_estimators': [500], \n",
    "    'max_depth': [28, 30, 32],\n",
    "    'max_features': [5, 7, 9],\n",
    "    'n_jobs': [30],\n",
    "    'min_samples_leaf': [1, 2, 3]\n",
    "}\n",
    "\n",
    "grid_rf = GridSearchCV(rf, param_grid, cv=2, verbose=3)\n",
    "grid_rf.fit(X_train, y_train)\n",
    "print(\"#-------- DONE WITH GRID SEARCH.\")\n",
    "best_model = grid_rf.best_estimator_\n",
    "best_params = grid_rf.best_params_ \n",
    "scores = grid_rf.grid_scores_\n",
    "print(best_params)"
   ]
  },
  {
   "cell_type": "code",
   "execution_count": 11,
   "metadata": {
    "collapsed": false
   },
   "outputs": [
    {
     "name": "stdout",
     "output_type": "stream",
     "text": [
      "0.756353227163\n"
     ]
    }
   ],
   "source": [
    "# Calculate cross validation accuracy\n",
    "rf = RandomForestClassifier(n_estimators=500, criterion='entropy', max_features=5, max_depth=32,\n",
    "                            min_samples_leaf = 2, bootstrap=True, oob_score=True, n_jobs=30, random_state=0)\n",
    "print(np.mean(cross_val_score(rf, X_train, y_train, cv=5)))"
   ]
  },
  {
   "cell_type": "code",
   "execution_count": 7,
   "metadata": {
    "collapsed": false
   },
   "outputs": [],
   "source": [
    "# Fit to full training data and table feature importances\n",
    "rf = rf.fit(X_train, y_train)\n",
    "importances = rf.feature_importances_\n",
    "importance = pd.DataFrame(importances, index=X_train.columns, columns=[\"importance\"])\n",
    "# importance.sort('importance', ascending=0)"
   ]
  },
  {
   "cell_type": "code",
   "execution_count": 8,
   "metadata": {
    "collapsed": false
   },
   "outputs": [
    {
     "name": "stdout",
     "output_type": "stream",
     "text": [
      "Training Accuracy = 1.000000\n",
      "Test Accuracy = 0.745432\n"
     ]
    }
   ],
   "source": [
    "# Print train and test accuracy\n",
    "y_train_pred = rf.predict(X_train)\n",
    "y_test_pred = rf.predict(X_test)\n",
    "print(\"Training Accuracy = %f\" % accuracy(y_train_pred, y_train))\n",
    "print(\"Test Accuracy = %f\" % accuracy(rf.predict(X_test), y_test))"
   ]
  },
  {
   "cell_type": "code",
   "execution_count": 9,
   "metadata": {
    "collapsed": false
   },
   "outputs": [
    {
     "data": {
      "text/plain": [
       "array([[687,  36,   0,  32],\n",
       "       [ 99, 208,   0,  22],\n",
       "       [106,   5,   0,   3],\n",
       "       [ 84,  17,   0, 288]])"
      ]
     },
     "execution_count": 9,
     "metadata": {},
     "output_type": "execute_result"
    }
   ],
   "source": [
    "confusion_matrix(np.array(y_test), np.array(y_test_pred))"
   ]
  },
  {
   "cell_type": "code",
   "execution_count": null,
   "metadata": {
    "collapsed": true
   },
   "outputs": [],
   "source": []
  }
 ],
 "metadata": {
  "kernelspec": {
   "display_name": "Python 2",
   "language": "python",
   "name": "python2"
  },
  "language_info": {
   "codemirror_mode": {
    "name": "ipython",
    "version": 2
   },
   "file_extension": ".py",
   "mimetype": "text/x-python",
   "name": "python",
   "nbconvert_exporter": "python",
   "pygments_lexer": "ipython2",
   "version": "2.7.11"
  }
 },
 "nbformat": 4,
 "nbformat_minor": 0
}
